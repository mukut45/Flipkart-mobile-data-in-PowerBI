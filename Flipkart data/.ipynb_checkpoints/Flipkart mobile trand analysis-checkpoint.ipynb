{
 "cells": [
  {
   "cell_type": "code",
   "execution_count": 23,
   "id": "9cb45afb-4d95-4b23-acb6-2f2fc8569b3e",
   "metadata": {},
   "outputs": [
    {
     "name": "stdout",
     "output_type": "stream",
     "text": [
      "  Brand Model            Color Memory Storage  Rating  Selling Price  \\\n",
      "0  OPPO   A53  Moonlight Black   4 GB   64 GB     4.5          11990   \n",
      "1  OPPO   A53       Mint Cream   4 GB   64 GB     4.5          11990   \n",
      "2  OPPO   A53  Moonlight Black   6 GB  128 GB     4.3          13990   \n",
      "3  OPPO   A53       Mint Cream   6 GB  128 GB     4.3          13990   \n",
      "4  OPPO   A53   Electric Black   4 GB   64 GB     4.5          11990   \n",
      "\n",
      "   Original Price  \n",
      "0           15990  \n",
      "1           15990  \n",
      "2           17990  \n",
      "3           17990  \n",
      "4           15990  \n"
     ]
    }
   ],
   "source": [
    "import pandas as pd\n",
    "df = pd.read_csv(r\"D:\\Information Technology\\Flipkart data\\Flipkart data\\Flipkart_Mobiles.csv\")\n",
    "print(df.head())"
   ]
  },
  {
   "cell_type": "code",
   "execution_count": 7,
   "id": "61bab461-f270-448b-910c-bd4f579ed419",
   "metadata": {},
   "outputs": [
    {
     "name": "stdout",
     "output_type": "stream",
     "text": [
      "<class 'pandas.core.frame.DataFrame'>\n",
      "RangeIndex: 3114 entries, 0 to 3113\n",
      "Data columns (total 8 columns):\n",
      " #   Column          Non-Null Count  Dtype  \n",
      "---  ------          --------------  -----  \n",
      " 0   Brand           3114 non-null   object \n",
      " 1   Model           3114 non-null   object \n",
      " 2   Color           3114 non-null   object \n",
      " 3   Memory          3071 non-null   object \n",
      " 4   Storage         3075 non-null   object \n",
      " 5   Rating          2970 non-null   float64\n",
      " 6   Selling Price   3114 non-null   int64  \n",
      " 7   Original Price  3114 non-null   int64  \n",
      "dtypes: float64(1), int64(2), object(5)\n",
      "memory usage: 194.8+ KB\n"
     ]
    }
   ],
   "source": [
    "df.info()"
   ]
  },
  {
   "cell_type": "code",
   "execution_count": 11,
   "id": "83c32e7b-e52b-45a4-b364-fc81ce630dd5",
   "metadata": {},
   "outputs": [
    {
     "data": {
      "text/plain": [
       "Brand               0\n",
       "Model               0\n",
       "Color               0\n",
       "Memory             43\n",
       "Storage            39\n",
       "Rating            144\n",
       "Selling Price       0\n",
       "Original Price      0\n",
       "dtype: int64"
      ]
     },
     "execution_count": 11,
     "metadata": {},
     "output_type": "execute_result"
    }
   ],
   "source": [
    "df.isnull().sum()"
   ]
  },
  {
   "cell_type": "code",
   "execution_count": 13,
   "id": "9391f1c7-e575-4012-8e82-7e1bade98e59",
   "metadata": {},
   "outputs": [],
   "source": [
    "df['Rating'] = df['Rating'].fillna(df['Rating'].mean()) # fill the missing values with its mean"
   ]
  },
  {
   "cell_type": "code",
   "execution_count": 17,
   "id": "e90a954f-866c-491a-afe4-c8988f4cd19d",
   "metadata": {},
   "outputs": [
    {
     "data": {
      "text/plain": [
       "Brand              0\n",
       "Model              0\n",
       "Color              0\n",
       "Memory            43\n",
       "Storage           39\n",
       "Rating             0\n",
       "Selling Price      0\n",
       "Original Price     0\n",
       "dtype: int64"
      ]
     },
     "execution_count": 17,
     "metadata": {},
     "output_type": "execute_result"
    }
   ],
   "source": [
    "df.isnull().sum() # check here"
   ]
  },
  {
   "cell_type": "code",
   "execution_count": 19,
   "id": "e71fd8c0-0b7f-406b-87db-bf61a5087e55",
   "metadata": {},
   "outputs": [],
   "source": [
    "# Fill missing values in 'Memory' and 'Storage' columns with 'Unknown'\n",
    "df['Memory'] = df['Memory'].fillna('Unknown')\n",
    "df['Storage'] = df['Storage'].fillna('Unknown')"
   ]
  },
  {
   "cell_type": "code",
   "execution_count": 21,
   "id": "34bdcab0-cf2e-4814-b100-2a55e726b974",
   "metadata": {},
   "outputs": [
    {
     "data": {
      "text/plain": [
       "Brand             0\n",
       "Model             0\n",
       "Color             0\n",
       "Memory            0\n",
       "Storage           0\n",
       "Rating            0\n",
       "Selling Price     0\n",
       "Original Price    0\n",
       "dtype: int64"
      ]
     },
     "execution_count": 21,
     "metadata": {},
     "output_type": "execute_result"
    }
   ],
   "source": [
    "df.isnull().sum() #  check here"
   ]
  },
  {
   "cell_type": "code",
   "execution_count": 29,
   "id": "6d32c80f-bd9b-4617-bc31-b28415e66d36",
   "metadata": {},
   "outputs": [
    {
     "name": "stdout",
     "output_type": "stream",
     "text": [
      "            Rating  Selling Price  Original Price\n",
      "count  2970.000000    3114.000000     3114.000000\n",
      "mean      4.243098   26436.625562    28333.473025\n",
      "std       0.271991   30066.892622    31525.599889\n",
      "min       2.300000    1000.000000     1000.000000\n",
      "25%       4.100000    9990.000000    10030.250000\n",
      "50%       4.300000   15000.000000    16889.500000\n",
      "75%       4.400000   28999.000000    31500.000000\n",
      "max       5.000000  179900.000000   189999.000000\n"
     ]
    }
   ],
   "source": [
    "print(df.describe()) # describing the data here for statical analysis"
   ]
  },
  {
   "cell_type": "code",
   "execution_count": 61,
   "id": "f3f91396-f3b8-4fef-9f0d-74b2dddb6369",
   "metadata": {},
   "outputs": [],
   "source": [
    "# Convert all string (object) columns to lowercase\n",
    "df = df.apply(lambda col: col.str.lower() if col.dtype == 'object' else col)"
   ]
  },
  {
   "cell_type": "code",
   "execution_count": 63,
   "id": "4940b1df-fc59-4d4d-8548-566deff2cf2d",
   "metadata": {},
   "outputs": [
    {
     "data": {
      "text/plain": [
       "array(['oppo', 'htc', 'iqoo', 'google pixel', 'lg', 'asus', 'realme',\n",
       "       'gionee', 'nokia', 'apple', 'samsung', 'lenovo', 'motorola',\n",
       "       'poco', 'vivo', 'xiaomi', 'infinix'], dtype=object)"
      ]
     },
     "execution_count": 63,
     "metadata": {},
     "output_type": "execute_result"
    }
   ],
   "source": [
    "unique_brands = df['Brand'].unique()\n",
    "unique_brands"
   ]
  },
  {
   "cell_type": "code",
   "execution_count": 67,
   "id": "5e9e947b-98a7-48c9-bddc-97b3e5a495d2",
   "metadata": {},
   "outputs": [
    {
     "name": "stdout",
     "output_type": "stream",
     "text": [
      "    Brand               Model  Selling Price\n",
      "12  apple   iphone 13 pro max        2898100\n",
      "13  apple  iphone 13 pro max         2748200\n",
      "1   apple      iphone 11 pro         2328492\n",
      "0   apple          iphone 11         2041400\n",
      "11  apple      iphone 13 pro         1778800\n",
      "2   apple  iphone 11 pro max         1712200\n",
      "6   apple  iphone 12 pro max         1598800\n",
      "25  apple          iphone xr         1499379\n",
      "5   apple      iphone 12 pro         1338900\n",
      "3   apple          iphone 12         1271982\n"
     ]
    }
   ],
   "source": [
    "top_selling = (\n",
    "    df.groupby(['Brand', 'Model'])['Selling Price']\n",
    "    .sum()\n",
    "    .reset_index()\n",
    "    .sort_values(by='Selling Price', ascending=False)\n",
    ")\n",
    "print(top_selling.head(10))"
   ]
  },
  {
   "cell_type": "code",
   "execution_count": 69,
   "id": "40f3d37f-c662-4901-8c2b-a62beb3d9d2e",
   "metadata": {},
   "outputs": [
    {
     "name": "stdout",
     "output_type": "stream",
     "text": [
      "        Brand               Model  Rating\n",
      "2797     vivo                 z1x     5.0\n",
      "2021  samsung      sm-b310ezddins     5.0\n",
      "2799     vivo                  s2     5.0\n",
      "2791     vivo               x50       5.0\n",
      "2789     vivo             x60 pro     5.0\n",
      "1348    apple      iphone 7 plus      5.0\n",
      "2771     vivo                y33t     4.9\n",
      "3062   realme                9 5g     4.8\n",
      "3055    apple   iphone 13 pro max     4.7\n",
      "1203    apple  iphone 11 pro max      4.7\n"
     ]
    }
   ],
   "source": [
    "# Sort by Rating in descending order and get top 10\n",
    "top_rated = (\n",
    "    df.sort_values(by='Rating', ascending=False)\n",
    "    [['Brand', 'Model', 'Rating']]\n",
    "    .drop_duplicates()  # Optional: Avoid duplicate models\n",
    "    .head(10)\n",
    ")\n",
    "print(top_rated)"
   ]
  },
  {
   "cell_type": "code",
   "execution_count": 71,
   "id": "94c70106-baa8-4b84-b18f-590c7cc9f5e0",
   "metadata": {},
   "outputs": [
    {
     "name": "stdout",
     "output_type": "stream",
     "text": [
      "['4a ' '3a xl ' '3' '3 xl ' '3a ' 'xl ' '2 xl ' '2' 'quite black'\n",
      " 'very silver' 'nexus 5x ']\n"
     ]
    }
   ],
   "source": [
    "# Filter rows where Brand is 'google pixel' (case-insensitive)\n",
    "google_pixel_models = df[df['Brand'].str.lower() == 'google pixel']['Model'].unique()\n",
    "\n",
    "# Print the models\n",
    "print(google_pixel_models)"
   ]
  },
  {
   "cell_type": "code",
   "execution_count": 87,
   "id": "850c83e2-a031-44a3-ab8b-9fc15bc12720",
   "metadata": {},
   "outputs": [
    {
     "name": "stdout",
     "output_type": "stream",
     "text": [
      "           Model  Rating\n",
      "261        3 xl      4.6\n",
      "270        2 xl      4.6\n",
      "271            2     4.6\n",
      "254          4a      4.5\n",
      "255       3a xl      4.5\n",
      "256            3     4.5\n",
      "268          3a      4.5\n",
      "269          xl      4.5\n",
      "355    nexus 5x      4.5\n",
      "274  quite black     4.4\n",
      "275  very silver     4.4\n",
      "311    nexus 5x      4.3\n"
     ]
    }
   ],
   "source": [
    "# Drop duplicate model-rating pairs and sort by Rating descending\n",
    "google_pixel_unique = (\n",
    "    google_pixel_df[['Model', 'Rating']]\n",
    "    .drop_duplicates()\n",
    "    .sort_values(by='Rating', ascending=False)\n",
    ")\n",
    "\n",
    "print(google_pixel_unique)\n"
   ]
  },
  {
   "cell_type": "code",
   "execution_count": 91,
   "id": "f7faf3ab-23b6-4202-989b-636160931856",
   "metadata": {},
   "outputs": [
    {
     "name": "stdout",
     "output_type": "stream",
     "text": [
      "                   Model  Rating\n",
      "324             g pro 2      4.5\n",
      "325       optimus l5 ii      4.5\n",
      "308          nexus4 e960     4.5\n",
      "329             g2 d802      4.5\n",
      "279  velvet dual screen      4.4\n",
      "..                   ...     ...\n",
      "359               x cam      3.5\n",
      "302            max x160      3.4\n",
      "341                  q7      3.3\n",
      "375                 q7+      3.2\n",
      "349           g8s thinq      NaN\n",
      "\n",
      "[64 rows x 2 columns]\n"
     ]
    }
   ],
   "source": [
    "# Drop duplicate model-rating pairs and sort by Rating descending\n",
    "lg_unique = (\n",
    "    lg_df[['Model', 'Rating']]\n",
    "    .drop_duplicates()\n",
    "    .sort_values(by='Rating', ascending=False)\n",
    ")\n",
    "\n",
    "print(lg_unique)\n",
    "\n"
   ]
  },
  {
   "cell_type": "code",
   "execution_count": null,
   "id": "2909bced-bd1b-47e7-b33c-edd75d1c8ac0",
   "metadata": {},
   "outputs": [],
   "source": []
  }
 ],
 "metadata": {
  "kernelspec": {
   "display_name": "Python 3 (ipykernel)",
   "language": "python",
   "name": "python3"
  },
  "language_info": {
   "codemirror_mode": {
    "name": "ipython",
    "version": 3
   },
   "file_extension": ".py",
   "mimetype": "text/x-python",
   "name": "python",
   "nbconvert_exporter": "python",
   "pygments_lexer": "ipython3",
   "version": "3.12.4"
  }
 },
 "nbformat": 4,
 "nbformat_minor": 5
}
