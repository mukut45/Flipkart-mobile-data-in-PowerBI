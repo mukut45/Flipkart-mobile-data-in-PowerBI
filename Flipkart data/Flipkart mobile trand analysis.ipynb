{
 "cells": [
  {
   "cell_type": "code",
   "execution_count": 23,
   "id": "9cb45afb-4d95-4b23-acb6-2f2fc8569b3e",
   "metadata": {},
   "outputs": [
    {
     "name": "stdout",
     "output_type": "stream",
     "text": [
      "  Brand Model            Color Memory Storage  Rating  Selling Price  \\\n",
      "0  OPPO   A53  Moonlight Black   4 GB   64 GB     4.5          11990   \n",
      "1  OPPO   A53       Mint Cream   4 GB   64 GB     4.5          11990   \n",
      "2  OPPO   A53  Moonlight Black   6 GB  128 GB     4.3          13990   \n",
      "3  OPPO   A53       Mint Cream   6 GB  128 GB     4.3          13990   \n",
      "4  OPPO   A53   Electric Black   4 GB   64 GB     4.5          11990   \n",
      "\n",
      "   Original Price  \n",
      "0           15990  \n",
      "1           15990  \n",
      "2           17990  \n",
      "3           17990  \n",
      "4           15990  \n"
     ]
    }
   ],
   "source": [
    "import pandas as pd\n",
    "df = pd.read_csv(r\"D:\\Information Technology\\Flipkart data\\Flipkart data\\Flipkart_Mobiles.csv\")\n",
    "print(df.head())"
   ]
  },
  {
   "cell_type": "code",
   "execution_count": 7,
   "id": "61bab461-f270-448b-910c-bd4f579ed419",
   "metadata": {},
   "outputs": [
    {
     "name": "stdout",
     "output_type": "stream",
     "text": [
      "<class 'pandas.core.frame.DataFrame'>\n",
      "RangeIndex: 3114 entries, 0 to 3113\n",
      "Data columns (total 8 columns):\n",
      " #   Column          Non-Null Count  Dtype  \n",
      "---  ------          --------------  -----  \n",
      " 0   Brand           3114 non-null   object \n",
      " 1   Model           3114 non-null   object \n",
      " 2   Color           3114 non-null   object \n",
      " 3   Memory          3071 non-null   object \n",
      " 4   Storage         3075 non-null   object \n",
      " 5   Rating          2970 non-null   float64\n",
      " 6   Selling Price   3114 non-null   int64  \n",
      " 7   Original Price  3114 non-null   int64  \n",
      "dtypes: float64(1), int64(2), object(5)\n",
      "memory usage: 194.8+ KB\n"
     ]
    }
   ],
   "source": [
    "df.info()"
   ]
  },
  {
   "cell_type": "code",
   "execution_count": 11,
   "id": "83c32e7b-e52b-45a4-b364-fc81ce630dd5",
   "metadata": {},
   "outputs": [
    {
     "data": {
      "text/plain": [
       "Brand               0\n",
       "Model               0\n",
       "Color               0\n",
       "Memory             43\n",
       "Storage            39\n",
       "Rating            144\n",
       "Selling Price       0\n",
       "Original Price      0\n",
       "dtype: int64"
      ]
     },
     "execution_count": 11,
     "metadata": {},
     "output_type": "execute_result"
    }
   ],
   "source": [
    "df.isnull().sum()"
   ]
  },
  {
   "cell_type": "code",
   "execution_count": 13,
   "id": "9391f1c7-e575-4012-8e82-7e1bade98e59",
   "metadata": {},
   "outputs": [],
   "source": [
    "df['Rating'] = df['Rating'].fillna(df['Rating'].mean()) # fill the missing values with its mean"
   ]
  },
  {
   "cell_type": "code",
   "execution_count": 17,
   "id": "e90a954f-866c-491a-afe4-c8988f4cd19d",
   "metadata": {},
   "outputs": [
    {
     "data": {
      "text/plain": [
       "Brand              0\n",
       "Model              0\n",
       "Color              0\n",
       "Memory            43\n",
       "Storage           39\n",
       "Rating             0\n",
       "Selling Price      0\n",
       "Original Price     0\n",
       "dtype: int64"
      ]
     },
     "execution_count": 17,
     "metadata": {},
     "output_type": "execute_result"
    }
   ],
   "source": [
    "df.isnull().sum() # check here"
   ]
  },
  {
   "cell_type": "code",
   "execution_count": 19,
   "id": "e71fd8c0-0b7f-406b-87db-bf61a5087e55",
   "metadata": {},
   "outputs": [],
   "source": [
    "# Fill missing values in 'Memory' and 'Storage' columns with 'Unknown'\n",
    "df['Memory'] = df['Memory'].fillna('Unknown')\n",
    "df['Storage'] = df['Storage'].fillna('Unknown')"
   ]
  },
  {
   "cell_type": "code",
   "execution_count": 21,
   "id": "34bdcab0-cf2e-4814-b100-2a55e726b974",
   "metadata": {},
   "outputs": [
    {
     "data": {
      "text/plain": [
       "Brand             0\n",
       "Model             0\n",
       "Color             0\n",
       "Memory            0\n",
       "Storage           0\n",
       "Rating            0\n",
       "Selling Price     0\n",
       "Original Price    0\n",
       "dtype: int64"
      ]
     },
     "execution_count": 21,
     "metadata": {},
     "output_type": "execute_result"
    }
   ],
   "source": [
    "df.isnull().sum() #  check here"
   ]
  },
  {
   "cell_type": "code",
   "execution_count": 29,
   "id": "6d32c80f-bd9b-4617-bc31-b28415e66d36",
   "metadata": {},
   "outputs": [
    {
     "name": "stdout",
     "output_type": "stream",
     "text": [
      "            Rating  Selling Price  Original Price\n",
      "count  2970.000000    3114.000000     3114.000000\n",
      "mean      4.243098   26436.625562    28333.473025\n",
      "std       0.271991   30066.892622    31525.599889\n",
      "min       2.300000    1000.000000     1000.000000\n",
      "25%       4.100000    9990.000000    10030.250000\n",
      "50%       4.300000   15000.000000    16889.500000\n",
      "75%       4.400000   28999.000000    31500.000000\n",
      "max       5.000000  179900.000000   189999.000000\n"
     ]
    }
   ],
   "source": [
    "print(df.describe()) # describing the data here for statical analysis"
   ]
  },
  {
   "cell_type": "code",
   "execution_count": 57,
   "id": "1e70237a-e1e9-456f-8d3f-c8f4bdac7733",
   "metadata": {},
   "outputs": [
    {
     "name": "stdout",
     "output_type": "stream",
     "text": [
      "    Brand               Model  Selling Price\n",
      "44  Apple   iPhone 13 Pro Max        2898100\n",
      "45  Apple  iPhone 13 Pro Max         2748200\n",
      "34  Apple      iPhone 11 Pro         2328492\n",
      "33  Apple          iPhone 11         2041400\n",
      "43  Apple      iPhone 13 Pro         1778800\n",
      "35  Apple  iPhone 11 Pro Max         1712200\n",
      "39  Apple  iPhone 12 Pro Max         1598800\n",
      "58  Apple          iPhone XR         1499379\n",
      "38  Apple      iPhone 12 Pro         1338900\n",
      "36  Apple          iPhone 12         1271982\n"
     ]
    }
   ],
   "source": [
    "top_selling = (\n",
    "    df.groupby(['Brand', 'Model'])['Selling Price']\n",
    "    .sum()\n",
    "    .reset_index()\n",
    "    .sort_values(by='Selling Price', ascending=False)\n",
    ")\n",
    "print(top_selling.head(10))"
   ]
  },
  {
   "cell_type": "code",
   "execution_count": 55,
   "id": "fb7b9ca2-9132-4f9c-babe-2e8b7890d390",
   "metadata": {},
   "outputs": [
    {
     "name": "stdout",
     "output_type": "stream",
     "text": [
      "        Brand               Model  Rating\n",
      "2797     vivo                 Z1x     5.0\n",
      "2021  SAMSUNG      SM-B310EZDDINS     5.0\n",
      "2799     vivo                  S2     5.0\n",
      "2791     vivo               X50       5.0\n",
      "2789     vivo             X60 Pro     5.0\n",
      "1348    Apple      iPhone 7 Plus      5.0\n",
      "2771     vivo                Y33T     4.9\n",
      "3062   realme                9 5G     4.8\n",
      "3055    Apple   iPhone 13 Pro Max     4.7\n",
      "1203    Apple  iPhone 11 Pro Max      4.7\n"
     ]
    }
   ],
   "source": [
    "# Sort by Rating in descending order and get top 10\n",
    "top_rated = (\n",
    "    df.sort_values(by='Rating', ascending=False)\n",
    "    [['Brand', 'Model', 'Rating']]\n",
    "    .drop_duplicates()  # Optional: Avoid duplicate models\n",
    "    .head(10)\n",
    ")\n",
    "\n",
    "print(top_rated)"
   ]
  },
  {
   "cell_type": "code",
   "execution_count": 61,
   "id": "f3f91396-f3b8-4fef-9f0d-74b2dddb6369",
   "metadata": {},
   "outputs": [],
   "source": [
    "# Convert all string (object) columns to lowercase\n",
    "df = df.apply(lambda col: col.str.lower() if col.dtype == 'object' else col)\n"
   ]
  },
  {
   "cell_type": "code",
   "execution_count": 63,
   "id": "4940b1df-fc59-4d4d-8548-566deff2cf2d",
   "metadata": {},
   "outputs": [
    {
     "data": {
      "text/plain": [
       "array(['oppo', 'htc', 'iqoo', 'google pixel', 'lg', 'asus', 'realme',\n",
       "       'gionee', 'nokia', 'apple', 'samsung', 'lenovo', 'motorola',\n",
       "       'poco', 'vivo', 'xiaomi', 'infinix'], dtype=object)"
      ]
     },
     "execution_count": 63,
     "metadata": {},
     "output_type": "execute_result"
    }
   ],
   "source": [
    "unique_brands = df['Brand'].unique()\n",
    "unique_brands"
   ]
  },
  {
   "cell_type": "code",
   "execution_count": null,
   "id": "5e9e947b-98a7-48c9-bddc-97b3e5a495d2",
   "metadata": {},
   "outputs": [],
   "source": []
  }
 ],
 "metadata": {
  "kernelspec": {
   "display_name": "Python 3 (ipykernel)",
   "language": "python",
   "name": "python3"
  },
  "language_info": {
   "codemirror_mode": {
    "name": "ipython",
    "version": 3
   },
   "file_extension": ".py",
   "mimetype": "text/x-python",
   "name": "python",
   "nbconvert_exporter": "python",
   "pygments_lexer": "ipython3",
   "version": "3.12.4"
  }
 },
 "nbformat": 4,
 "nbformat_minor": 5
}
